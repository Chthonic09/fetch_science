{
 "cells": [
  {
   "cell_type": "code",
   "execution_count": 1,
   "id": "4ecfd2b6",
   "metadata": {},
   "outputs": [],
   "source": [
    "import pandas as pd #To read csv files as dataframes\n",
    "from sklearn.feature_extraction.text import TfidfVectorizer #To compute TFIDF sparse matrices \n",
    "from sklearn.metrics.pairwise import linear_kernel #To compute dot product with sparse matrix (cosine similarity)"
   ]
  },
  {
   "cell_type": "code",
   "execution_count": 2,
   "id": "60419543",
   "metadata": {},
   "outputs": [],
   "source": [
    "def read_data():\n",
    "    '''Reads all the csv files into their own dataframes. Assumes all columns as strings.'''\n",
    "    \n",
    "    df_brand = pd.read_csv(r'data\\brand_category.csv', dtype='str')\n",
    "    df_cat = pd.read_csv(r'data\\categories.csv', dtype='str')\n",
    "    df_offers = pd.read_csv(r'data\\offer_retailer.csv', dtype='str')\n",
    "    \n",
    "    return df_brand, df_cat, df_offers"
   ]
  },
  {
   "cell_type": "code",
   "execution_count": 3,
   "id": "97ae598f",
   "metadata": {},
   "outputs": [],
   "source": [
    "def user_input(df_brand, df_cat, df_offers):\n",
    "    '''Asks the user for search term and checks to see if it is in the dataframes.'''\n",
    "    \n",
    "    x = input('Search term: ').upper()\n",
    "    \n",
    "    if x in set(df_offers.RETAILER):\n",
    "        search_type = 'Retail'\n",
    "    elif x in set(df_brand.BRAND):\n",
    "        search_type = 'Brand'\n",
    "    elif x.capitalize() in set(df_cat.PRODUCT_CATEGORY):\n",
    "        x = x.capitalize()\n",
    "        search_type = 'Category'\n",
    "    else:\n",
    "        print('Search term is not in the database. Please try again.')\n",
    "        x, search_type = user_input(df_brand, df_cat, df_offers) # recursion until a valid search term is inputted\n",
    " \n",
    "    \n",
    "    return x, search_type"
   ]
  },
  {
   "cell_type": "code",
   "execution_count": 4,
   "id": "2a1b2c7b",
   "metadata": {},
   "outputs": [],
   "source": [
    "def df_offer_tagged(df_brand, df_cat, df_offers):\n",
    "    '''Gets all the tags for each offer from all the dataframes. The tags include retailer, brand, category, and subcategory. Returns a list of strings to be used in TFIDF.'''\n",
    "    \n",
    "    df_brand_cat = df_brand.merge(df_cat, how='left', left_on='BRAND_BELONGS_TO_CATEGORY', right_on='PRODUCT_CATEGORY')\n",
    "    df_brands = df_brand.groupby(['BRAND'])['BRAND_BELONGS_TO_CATEGORY'].apply(', '.join).reset_index()\n",
    "    df_cats = df_brand_cat.groupby(['BRAND'])['IS_CHILD_CATEGORY_TO'].apply(', '.join).reset_index()\n",
    "    df_all = df_brands.merge(df_cats, on='BRAND')\n",
    "    df = df_offers.merge(df_all, how='left', on='BRAND')\n",
    "    df.fillna('None', inplace=True)\n",
    "    res = [' '.join(ele).lower() for ele in df.values.tolist()]\n",
    "\n",
    "    return res"
   ]
  },
  {
   "cell_type": "code",
   "execution_count": 5,
   "id": "f558b5b4",
   "metadata": {},
   "outputs": [],
   "source": [
    "def get_retail_tags(keyword, df_brand, df_cat, df_offers):\n",
    "    '''Gets the tags for Retail search in string format.'''\n",
    "\n",
    "    df_offers1 = df_offers.dropna(subset=['RETAILER'])\n",
    "\n",
    "    df1 = pd.merge(df_offers1[['RETAILER', 'BRAND']],\n",
    "                   df_brand[['BRAND', 'BRAND_BELONGS_TO_CATEGORY']],\n",
    "                   on='BRAND',\n",
    "                   how='left')\n",
    "\n",
    "    df2 = pd.merge(df1,\n",
    "                   df_cat[['PRODUCT_CATEGORY', 'IS_CHILD_CATEGORY_TO']],\n",
    "                   left_on='BRAND_BELONGS_TO_CATEGORY',\n",
    "                   right_on='PRODUCT_CATEGORY',\n",
    "                   how='left')\n",
    "    df2.fillna('None', inplace=True)\n",
    "    df3 = df2.groupby('RETAILER').agg({'BRAND': lambda x: ' '.join(set(x)),\n",
    "                                       'BRAND_BELONGS_TO_CATEGORY': lambda x: ' '.join(set(x)),\n",
    "                                       'IS_CHILD_CATEGORY_TO': lambda x: ' '.join(set(x))}\n",
    "                                     )\n",
    "\n",
    "    tags = keyword + ' ' + df3.loc[keyword, 'BRAND'] + ' ' + df3.loc[keyword, 'BRAND_BELONGS_TO_CATEGORY'] + ' ' + df3.loc[keyword, 'IS_CHILD_CATEGORY_TO']\n",
    "    \n",
    "    return tags"
   ]
  },
  {
   "cell_type": "code",
   "execution_count": 6,
   "id": "be78f285",
   "metadata": {},
   "outputs": [],
   "source": [
    "def get_cat_tags(keyword, df_cat):\n",
    "    '''Gets the tags for category search for the search term.'''\n",
    "    \n",
    "    df1 = df_cat.groupby('PRODUCT_CATEGORY').agg({'IS_CHILD_CATEGORY_TO': lambda x: ' '.join(set(x))}\n",
    "                                     )\n",
    "    tags = keyword + ' ' + df1.loc[keyword, 'IS_CHILD_CATEGORY_TO']\n",
    "    return tags"
   ]
  },
  {
   "cell_type": "code",
   "execution_count": 7,
   "id": "a775aaa7",
   "metadata": {},
   "outputs": [],
   "source": [
    "def get_brand_tags(keyword, df_brand, df_cat):\n",
    "    '''Gets the tags for brand search for the search term.'''\n",
    "    \n",
    "    df_brand_cat = df_brand.merge(df_cat, how='left', left_on='BRAND_BELONGS_TO_CATEGORY', right_on='PRODUCT_CATEGORY')\n",
    "    df_brands = df_brand.groupby(['BRAND'])['BRAND_BELONGS_TO_CATEGORY'].apply(', '.join).reset_index()\n",
    "    df_cats = df_brand_cat.groupby(['BRAND'])['IS_CHILD_CATEGORY_TO'].apply(', '.join).reset_index()\n",
    "    df_all = df_brands.merge(df_cats, on='BRAND')\n",
    "    df_all.fillna('None', inplace=True)\n",
    "    \n",
    "    brand_ind = df_all[df_all.BRAND.str.match(keyword)].index\n",
    "    \n",
    "    tags = df_all.loc[brand_ind, 'BRAND'] + ' ' + df_all.loc[brand_ind, 'BRAND_BELONGS_TO_CATEGORY'] + ' ' + df_all.loc[brand_ind, 'IS_CHILD_CATEGORY_TO']\n",
    "    \n",
    "    return ' '.join(tags)"
   ]
  },
  {
   "cell_type": "code",
   "execution_count": 8,
   "id": "95701887",
   "metadata": {},
   "outputs": [],
   "source": [
    "def tfidf_offers(df_offer_tags, tags):\n",
    "    '''Does word embbedding for the offer tags and search tags using TFIDF. Calculates the cosine similarity and returns top 10.'''\n",
    "    \n",
    "    vectorizer = TfidfVectorizer(stop_words=\"english\") \n",
    "    # max_df, min_df possible parameters for larger datasets\n",
    "    # max_df ignores very frequent words\n",
    "    # min_df ignores very sparse words\n",
    "       \n",
    "    X = vectorizer.fit_transform(df_offer_tags)\n",
    "    y = vectorizer.transform([tags])\n",
    "    \n",
    "    cosine_similarities = linear_kernel(y, X).flatten()\n",
    "    related_offers_indices = cosine_similarities.argsort()[:-11:-1] # Top 10 most similiar\n",
    "    \n",
    "    return related_offers_indices, cosine_similarities"
   ]
  },
  {
   "cell_type": "code",
   "execution_count": 9,
   "id": "f91a76e1",
   "metadata": {},
   "outputs": [],
   "source": [
    "def find_offers(df_offer_tags, keyword, search_type, df_brand, df_cat, df_offers):\n",
    "    '''Finds the search term tags finds the most similar offer using cosine similarity.'''\n",
    "    \n",
    "    match search_type:\n",
    "        case 'Brand':\n",
    "            tags = get_brand_tags(keyword, df_brand, df_cat)\n",
    "        case 'Retail':\n",
    "            tags = get_retail_tags(keyword, df_brand, df_cat, df_offers)\n",
    "        case 'Category':\n",
    "            tags = get_cat_tags(keyword, df_cat)\n",
    "        \n",
    "    offer_inds, cos_sim = tfidf_offers(df_offer_tags, tags)\n",
    "            \n",
    "    return offer_inds, cos_sim"
   ]
  },
  {
   "cell_type": "code",
   "execution_count": 10,
   "id": "22bb142b",
   "metadata": {},
   "outputs": [],
   "source": [
    "def summary(offer_inds, cos_sim, df_offers, keyword, search_type):\n",
    "    '''Prints a summary of the top offers with their cosine similarity'''\n",
    "    \n",
    "    print('Top {} offers for {}:'.format(len(offer_inds), keyword))\n",
    "    print('Search Type: {} '.format(search_type))\n",
    "    print()\n",
    "    for i in offer_inds:\n",
    "        print('{} || cosine similarity of {:.3f}.'.format(df_offers.loc[i, 'OFFER'], cos_sim[i]))"
   ]
  },
  {
   "cell_type": "code",
   "execution_count": 11,
   "id": "c3b948c6",
   "metadata": {},
   "outputs": [],
   "source": [
    "def main():\n",
    "    '''Main function that reads the data and finds the most similar offers to a search term'''\n",
    "    \n",
    "    df_brand, df_cat, df_offers = read_data()\n",
    "    keyword, search_type = user_input(df_brand, df_cat, df_offers)\n",
    "    df_offer_tags = df_offer_tagged(df_brand, df_cat, df_offers)\n",
    "    offer_inds, cos_sim = find_offers(df_offer_tags, keyword, search_type, df_brand, df_cat, df_offers)\n",
    "    summary(offer_inds, cos_sim, df_offers, keyword, search_type)"
   ]
  },
  {
   "cell_type": "code",
   "execution_count": 13,
   "id": "fd71fc8f",
   "metadata": {},
   "outputs": [
    {
     "name": "stdout",
     "output_type": "stream",
     "text": [
      "Search term: beer\n",
      "Top 10 offers for Beer:\n",
      "Search Type: Category \n",
      "\n",
      "Sol® 6 pack+ || cosine similarity of 0.416.\n",
      "Molson Coors®, select varieties, 12 pack+ || cosine similarity of 0.401.\n",
      "Stubborn Soda OR Bundaberg Ginger Beer, select varieties, at Amazon Storefront* || cosine similarity of 0.198.\n",
      "Coors Light®, Miller Lite® OR VIZZY™ 12 pack+ || cosine similarity of 0.189.\n",
      "Simply Spiked™ 12 pack+ || cosine similarity of 0.186.\n",
      "Coors Light®, Miller Lite® OR VIZZY™ 12 packs+, buy 3 || cosine similarity of 0.184.\n",
      "Coors Light®, Miller Lite® OR VIZZY™ 12 packs+, buy 5 || cosine similarity of 0.184.\n",
      "Coors Light®, Miller Lite® OR VIZZY™ 12 packs+, buy 2 || cosine similarity of 0.184.\n",
      "Coors Light®, Miller Lite® OR VIZZY™ 12 packs+, buy 4 || cosine similarity of 0.184.\n",
      "Simply Spiked™ Lemonade 12 pack+ || cosine similarity of 0.179.\n"
     ]
    }
   ],
   "source": [
    "main()"
   ]
  },
  {
   "cell_type": "code",
   "execution_count": null,
   "id": "660aacce",
   "metadata": {},
   "outputs": [],
   "source": []
  }
 ],
 "metadata": {
  "kernelspec": {
   "display_name": "Python 3 (ipykernel)",
   "language": "python",
   "name": "python3"
  },
  "language_info": {
   "codemirror_mode": {
    "name": "ipython",
    "version": 3
   },
   "file_extension": ".py",
   "mimetype": "text/x-python",
   "name": "python",
   "nbconvert_exporter": "python",
   "pygments_lexer": "ipython3",
   "version": "3.10.9"
  }
 },
 "nbformat": 4,
 "nbformat_minor": 5
}
